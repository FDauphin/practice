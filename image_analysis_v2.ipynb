{
 "cells": [
  {
   "cell_type": "code",
   "execution_count": null,
   "id": "1a0cde51",
   "metadata": {},
   "outputs": [],
   "source": [
    "#Import packages:\n",
    "import numpy as np\n",
    "import pandas as pd\n",
    "from astropy.io import fits\n",
    "from astropy.table import Table\n",
    "import matplotlib.pyplot as plt\n",
    "from astroquery.mast import Mast\n",
    "from astroquery.mast import Observations\n",
    "from ginga.util.zscale import zscale"
   ]
  },
  {
   "cell_type": "markdown",
   "metadata": {},
   "source": [
    "### Image rootnames chosen for each of the exercises:\n",
    "\n",
    "* Exercise 1:\n",
    "    * (i) 'iemg11s5q'\n",
    "    * (ii) 'iem406a5q'\n",
    "    * (iii) 'idxr01z3q'\n",
    "* Exercise 2: 'ie8d01neq'"
   ]
  },
  {
   "cell_type": "code",
   "execution_count": null,
   "id": "ba0040a8",
   "metadata": {},
   "outputs": [],
   "source": [
    "\n",
    "def stat_plot(data_raw, data_flt, data_DQ, data_ERR, root, dq_flag=16):\n",
    "    # Inputs: data - list of the arrays in the order: [flt SCI, raw, ERR, DQ]\n",
    "    # flag: value to flag in DQ array\n",
    "    # root: string with the rootname of the image\n",
    "    # Calculate summary statistics from the SCI array:\n",
    "    flt_stat = [root, np.mean(data_flt), np.median(data_flt), np.amin(data_flt),\n",
    "                np.amax(data_flt), np.std(data_flt)]\n",
    "\n",
    "    # Calculate the scaling for the arrays:\n",
    "    vmin_flt, vmax_flt = zscale(data_flt)\n",
    "    vmin_raw, vmax_raw = zscale(data_raw)\n",
    "    vmin_ERR, vmax_ERR = zscale(data_ERR)\n",
    "\n",
    "    # Filter of the DQ array\n",
    "    DQ_scale = np.bitwise_and(data_DQ,dq_flag)\n",
    "    \n",
    "    # Create the plot of the arrays\n",
    "    fig, axs = plt.subplots(2,2, figsize=[20,20], constrained_layout=True)\n",
    "    fig.suptitle(f'Image rootname: {root}', fontsize=25)\n",
    "    \n",
    "    axs[0,0].set_title('flt: SCI array', fontsize=20)\n",
    "    PlotA = axs[0,0].imshow(data_flt, vmin=vmin_flt, vmax=vmax_flt, cmap='gray', origin='lower')\n",
    "    fig.colorbar(PlotA, ax = axs[0,0], shrink=0.8)\n",
    "\n",
    "    axs[0,1].set_title('raw: SCI array',fontsize=20)\n",
    "    PlotB = axs[0,1].imshow(data_raw, vmin=vmin_raw, vmax=vmax_raw, cmap='gray', origin='lower')\n",
    "    fig.colorbar(PlotB, ax = axs[0,1], shrink=0.8)\n",
    "\n",
    "    axs[1,0].set_title(\"Error array\",fontsize=20)\n",
    "    PlotC = axs[1,0].imshow(data_ERR, vmin=vmin_ERR,vmax=vmax_ERR, cmap='gray', origin='lower')\n",
    "    fig.colorbar(PlotC, ax = axs[1,0], shrink=0.8)\n",
    "\n",
    "    axs[1,1].set_title(\"Data Quality array\",fontsize=20)\n",
    "    PlotD = axs[1,1].imshow(DQ_scale, cmap='gray', origin='lower')\n",
    "    fig.colorbar(PlotD, ax = axs[1,1], shrink=0.8)\n",
    "\n",
    "    # Create the histogram:\n",
    "    plt.figure()\n",
    "    plt.title(f'Histogram of {root}')\n",
    "    plt.xlabel('Pixel intensity')\n",
    "    plt.yscale('log')\n",
    "    plt.hist(data_flt.flatten(), bins = 300, range=(vmin_flt, vmax_flt))\n",
    "\n",
    "    \n",
    "    return(flt_stat)"
   ]
  },
  {
   "cell_type": "code",
   "execution_count": null,
   "id": "7fd770c8",
   "metadata": {},
   "outputs": [],
   "source": [
    "root4 = 'ie8d01neq'\n",
    "    # Query data files\n",
    "Ex4_table = Observations.query_criteria(obs_id= 'ie8d01neq')\n",
    "Ex4_Prods = Observations.get_product_list(Ex4_table)\n",
    "Ex4Prod = Observations.filter_products(Ex4_Prods, extension=[\"_flt.fits\", \"_raw.fits\"])\n",
    "Ex4Prod"
   ]
  },
  {
   "cell_type": "code",
   "execution_count": null,
   "id": "405e1794",
   "metadata": {},
   "outputs": [],
   "source": [
    "    # Download data files:\n",
    "Observations.download_products(Ex4Prod, mrp_only=False, cache=False)\n",
    "\n",
    "#Retrieve data from the files and separate them:\n",
    "\n",
    "            #flt file data: (SCI array)\n",
    "Ex4_flt = fits.getdata('mastDownload/HST/ie8d01neq/ie8d01neq_flt.fits', 'sci', 1)\n",
    "\n",
    "            #Raw file data: (SCI array)\n",
    "Ex4_raw = fits.getdata('mastDownload/HST/ie8d01neq/ie8d01neq_raw.fits', 'sci', 1)\n",
    "\n",
    "            #Get the error array from flt\n",
    "Ex4_ERR = fits.getdata('mastDownload/HST/ie8d01neq/ie8d01neq_flt.fits','ERR',1)\n",
    "\n",
    "            #Get the DQ array from the flt file\n",
    "Ex4_DQ = fits.getdata('mastDownload/HST/ie8d01neq/ie8d01neq_flt.fits','DQ',1)\n"
   ]
  },
  {
   "cell_type": "code",
   "execution_count": null,
   "id": "6bb6e891",
   "metadata": {},
   "outputs": [],
   "source": [
    "# Call function:\n",
    "Ex4_stats = stat_plot(Ex4_flt, Ex4_raw, Ex4_DQ, Ex4_ERR, root4)\n",
    "\n",
    "Ex4_stats\n"
   ]
  },
  {
   "cell_type": "code",
   "execution_count": null,
   "metadata": {},
   "outputs": [],
   "source": []
  }
 ],
 "metadata": {
  "kernelspec": {
   "display_name": "Python 3",
   "language": "python",
   "name": "python3"
  },
  "language_info": {
   "codemirror_mode": {
    "name": "ipython",
    "version": 3
   },
   "file_extension": ".py",
   "mimetype": "text/x-python",
   "name": "python",
   "nbconvert_exporter": "python",
   "pygments_lexer": "ipython3",
   "version": "3.6.12"
  }
 },
 "nbformat": 4,
 "nbformat_minor": 5
}
