{
 "cells": [
  {
   "cell_type": "code",
   "execution_count": null,
   "id": "24e24eaa",
   "metadata": {},
   "outputs": [],
   "source": [
    "#Import packages:\n",
    "import numpy as np\n",
    "import pandas as pd\n",
    "from astropy.io import fits\n",
    "from astropy.table import Table\n",
    "import matplotlib.pyplot as plt\n",
    "from astroquery.mast import Mast\n",
    "from astroquery.mast import Observations\n",
    "from ginga.util.zscale import zscale\n",
    "\n",
    "'''\n",
    "Ultimately we want to: \n",
    "find the image in the file to get the rootname\n",
    "using the rootname/id wildcard + the filter we want to query the info\n",
    "filter query info using the mask\n",
    "x - split the data up but using the file headers? -- call the file using\n",
    "wildcard info/using root\n",
    "\n",
    "'''\n"
   ]
  },
  {
   "cell_type": "markdown",
   "metadata": {},
   "source": [
    "### Image rootnames chosen for each of the exercises:\n",
    "\n",
    "* Exercise 1:\n",
    "    * (i) 'iemg11s5q'\n",
    "    * (ii) 'iem406a5q'\n",
    "    * (iii) 'idxr01z3q'\n",
    "* Exercise 2: 'ie8d01neq'"
   ]
  },
  {
   "cell_type": "markdown",
   "metadata": {},
   "source": [
    "### Exercise 1.i:"
   ]
  },
  {
   "cell_type": "code",
   "execution_count": null,
   "id": "81655cb1",
   "metadata": {},
   "outputs": [],
   "source": [
    "    # Query the data\n",
    "Ex1_table = Observations.query_criteria(obs_id= 'iemg11*', filters='F814W' ) \n",
    "#mask = Ex1_table['obs_id'] == 'iemg11s5q'\n",
    "\n",
    "Ex1_Prods = Observations.get_product_list(Ex1_table)\n",
    "\n",
    "Ex1Prod = Observations.filter_products(Ex1_Prods, extension=[\"_flt.fits\", \"_raw.fits\"] )\n",
    "mask = Ex1Prod['obs_id'] == 'iemg11s5q'\n",
    "\n",
    "Ex1Prod[mask]"
   ]
  },
  {
   "cell_type": "code",
   "execution_count": null,
   "id": "3b572a3c",
   "metadata": {},
   "outputs": [],
   "source": [
    "Ex1_table"
   ]
  },
  {
   "cell_type": "code",
   "execution_count": null,
   "id": "fe09679d",
   "metadata": {},
   "outputs": [],
   "source": [
    "    # Download data files\n",
    "Observations.download_products(Ex1Prod, mrp_only=False, cache=False)\n",
    "\n",
    "    # Retrieve and separate the data from the files:\n",
    "Ex1_flt = fits.getdata('mastDownload/HST/iemg11s5q/iemg11s5q_flt.fits','sci',1)\n",
    "\n",
    "Ex1_ERR = fits.getdata('mastDownload/HST/iemg11s5q/iemg11s5q_flt.fits','ERR',1)\n",
    "\n",
    "Ex1_DQ = fits.getdata('mastDownload/HST/iemg11s5q/iemg11s5q_flt.fits','DQ',1)\n",
    "\n",
    "Ex1_raw = fits.getdata('mastDownload/HST/iemg11s5q/iemg11s5q_raw.fits', 'sci',1)\n"
   ]
  },
  {
   "cell_type": "code",
   "execution_count": null,
   "id": "886598cc",
   "metadata": {},
   "outputs": [],
   "source": [
    "#Make a function potentially to split the files up. How do we know that an observation uses both chips?"
   ]
  },
  {
   "cell_type": "code",
   "execution_count": null,
   "id": "15bcd159",
   "metadata": {},
   "outputs": [],
   "source": [
    "# Get summary values from SCI array:\n",
    "img_mean = np.mean(Ex1_flt)\n",
    "img_med = np.median(Ex1_flt)\n",
    "img_min = np.amin(Ex1_flt)\n",
    "img_max = np.amax(Ex1_flt)\n",
    "img_stdev = np.std(Ex1_flt)\n",
    "\n",
    "# Add them to a list\n",
    "Ex1_stats = ['1.i', img_mean, img_med, img_min, img_max, img_stdev]\n",
    "\n",
    "# zscale the arrays for plotting:\n",
    "vmin1_flt, vmax1_flt = zscale(Ex1_flt)\n",
    "vmin1_raw, vmax1_raw = zscale(Ex1_raw)\n",
    "vmin1_ERR, vmax1_ERR = zscale(Ex1_ERR)"
   ]
  },
  {
   "cell_type": "code",
   "execution_count": null,
   "id": "275e274c",
   "metadata": {},
   "outputs": [],
   "source": [
    "    # Plot the arrays together:\n",
    "fig1, ax1 = plt.subplots(2,2, figsize=[20,20], constrained_layout=True)\n",
    "\n",
    "fig1.suptitle('Image rootname: iemg11s5q', fontsize=25)\n",
    "ax1[0,0].set_title('flt: science array',fontsize=20)\n",
    "E1a = ax1[0,0].imshow(Ex1_flt, vmin=vmin1_flt, vmax=vmax1_flt, cmap='gray', origin='lower')\n",
    "fig1.colorbar(E1a, ax = ax1[0,0], shrink=0.9)\n",
    "\n",
    "ax1[0,1].set_title('raw: science array',fontsize=20)\n",
    "E1b = ax1[0,1].imshow(Ex1_raw, vmin=vmin1_raw, vmax=vmax1_raw, cmap='gray', origin='lower')\n",
    "fig1.colorbar(E1b, ax = ax1[0,1], shrink=0.9)\n",
    "\n",
    "ax1[1,0].set_title(\"Error array\",fontsize=20)\n",
    "E1c = ax1[1,0].imshow(Ex1_ERR, vmin=vmin1_ERR,vmax=vmax1_ERR, cmap='gray', origin='lower')\n",
    "fig1.colorbar(E1c, ax = ax1[1,0], shrink=0.9)\n",
    "\n",
    "ax1[1,1].set_title(\"Data Quality array\",fontsize=20)\n",
    "E1d = ax1[1,1].imshow(Ex1_DQ, cmap='gray', origin='lower')\n",
    "fig1.colorbar(E1d, ax = ax1[1,1], shrink=0.9)\n",
    "\n",
    "plt.savefig('Exercise 1_i plot.png')"
   ]
  },
  {
   "cell_type": "code",
   "execution_count": null,
   "id": "09fc9fde",
   "metadata": {},
   "outputs": [],
   "source": [
    "    # Histogram plot:\n",
    "H1, bins1 = np.histogram(Ex1_flt, 256, [0,256])\n",
    "\n",
    "plt.figure()\n",
    "plt.title('Histogram of iemg11s5q')\n",
    "plt.hist(bins1[:-1], bins1, weights=H1, log=True)\n",
    "plt.savefig('Ex1i histogram.png')\n",
    "plt.show()\n"
   ]
  },
  {
   "cell_type": "markdown",
   "metadata": {},
   "source": [
    "### Exercise 1.ii:"
   ]
  },
  {
   "cell_type": "code",
   "execution_count": null,
   "id": "2ce458a2",
   "metadata": {},
   "outputs": [],
   "source": [
    "    # Query the data files:\n",
    "Ex2_table = Observations.query_criteria(obs_id='iem406a5q')\n",
    "Ex2_Prods = Observations.get_product_list('71366427')\n",
    "Ex2Prod = Observations.filter_products(Ex2_Prods, extension=[\"_flt.fits\", \"_raw.fits\"])\n",
    "Ex2Prod"
   ]
  },
  {
   "cell_type": "code",
   "execution_count": null,
   "id": "00e6111d",
   "metadata": {},
   "outputs": [],
   "source": [
    "#Download the data:\n",
    "Observations.download_products(Ex2Prod, mrp_only=False, cache=False)\n",
    "\n",
    "# Retrieve and separate the data from the files:\n",
    "Ex2_flt = fits.getdata('mastDownload/HST/iem406a5q/iem406a5q_flt.fits','sci',1)\n",
    "\n",
    "Ex2_ERR = fits.getdata('mastDownload/HST/iem406a5q/iem406a5q_flt.fits','ERR',1)\n",
    "\n",
    "Ex2_DQ = fits.getdata('mastDownload/HST/iem406a5q/iem406a5q_flt.fits','DQ',1)\n",
    "\n",
    "Ex2_raw = fits.getdata('mastDownload/HST/iem406a5q/iem406a5q_raw.fits', 'sci',1)\n"
   ]
  },
  {
   "cell_type": "code",
   "execution_count": null,
   "id": "fdb392e7",
   "metadata": {},
   "outputs": [],
   "source": [
    "# Get summary values from SCI array:\n",
    "im2_mean = np.mean(Ex2_flt)\n",
    "im2_med = np.median(Ex2_flt)\n",
    "im2_min = np.amin(Ex2_flt)\n",
    "im2_max = np.amax(Ex2_flt)\n",
    "im2_stdev = np.std(Ex2_flt)\n",
    "\n",
    "# Add them to a list\n",
    "Ex2_stats = ['1.ii',im2_mean, im2_med, im2_min, im2_max, im2_stdev]\n",
    "\n",
    "# zscale the arrays:\n",
    "vmin2_flt, vmax2_flt = zscale(Ex2_flt)\n",
    "vmin2_raw, vmax2_raw = zscale(Ex2_raw)\n",
    "vmin2_ERR, vmax2_ERR = zscale(Ex2_ERR)\n",
    "\n",
    "DQ_scale = np.bitwise_and(Ex2_DQ, 256) \n",
    "\n"
   ]
  },
  {
   "cell_type": "code",
   "execution_count": null,
   "id": "2abd12c9",
   "metadata": {
    "scrolled": false
   },
   "outputs": [],
   "source": [
    "    # Plot the arrays:\n",
    "fig2, ax2 = plt.subplots(2,2, figsize=[20,20], constrained_layout=True)\n",
    "\n",
    "fig2.suptitle('Image rootname: iem406a5q', fontsize=25)\n",
    "ax2[0,0].set_title('flt: science array',fontsize=20)\n",
    "E2a = ax2[0,0].imshow(Ex2_flt, vmin=vmin2_flt, vmax=vmax2_flt, cmap='gray', origin='lower')\n",
    "fig2.colorbar(E2a, ax = ax2[0,0], shrink=0.9)\n",
    "\n",
    "ax2[0,1].set_title('raw: science array',fontsize=20)\n",
    "E2b = ax2[0,1].imshow(Ex2_raw, vmin=vmin2_raw, vmax=vmax2_raw, cmap='gray', origin='lower')\n",
    "fig2.colorbar(E2b, ax = ax2[0,1], shrink=0.9)\n",
    "\n",
    "ax2[1,0].set_title(\"Error array\",fontsize=20)\n",
    "E2c = ax2[1,0].imshow(Ex2_ERR, vmin=vmin2_ERR,vmax=vmax2_ERR, cmap='gray', origin='lower')\n",
    "fig2.colorbar(E2c, ax = ax2[1,0], shrink=0.9)\n",
    "\n",
    "ax2[1,1].set_title(\"Data Quality array\",fontsize=20)\n",
    "E2d = ax2[1,1].imshow(DQ_scale, cmap='gray', origin='lower')\n",
    "fig2.colorbar(E2d, ax = ax2[1,1], shrink=0.9)\n",
    "\n",
    "#plt.savefig('Exercise 1_ii plot.png')"
   ]
  },
  {
   "cell_type": "code",
   "execution_count": null,
   "id": "49c7d636",
   "metadata": {
    "scrolled": false
   },
   "outputs": [],
   "source": [
    "# log scale the data:\n",
    "mask = Ex2_flt > 0\n",
    "data_pos = Ex2_flt[mask]\n",
    "log_data = np.log10(data_pos)\n",
    "D = log_data.flatten()\n",
    "R1 = np.amin(D)\n",
    "R2 = np.amax(D)\n",
    "\n",
    "# Histogram plot:\n",
    "#H2, bins2 = np.histogram(Ex2_flt, 500)\n",
    "plt.figure()\n",
    "plt.title('Histogram of iem406a5q')\n",
    "plt.hist(D,bins=200) #range=(R1,R2)) \n",
    "#plt.hist(Ex2_flt.flatten(), bins= 200) #range = (vmin2_flt,vmax2_flt))\n",
    "#plt.xscale('log')\n",
    "plt.yscale('log')\n",
    "\n",
    "#plt.savefig('Ex1_ii histogram.png')"
   ]
  },
  {
   "cell_type": "markdown",
   "metadata": {},
   "source": [
    "### Exercise 1.iii: 'idxr01z3q'"
   ]
  },
  {
   "cell_type": "code",
   "execution_count": null,
   "id": "0679a7fa",
   "metadata": {},
   "outputs": [],
   "source": [
    "    # Query data files\n",
    "Ex3_table = Observations.query_criteria(obs_id= 'idxr01*', filters='F555W')\n",
    "Ex3_Prods = Observations.get_product_list('26262836')\n",
    "Ex3Prod = Observations.filter_products(Ex3_Prods, extension=[\"_flt.fits\", \"_raw.fits\"])\n",
    "Ex3Prod"
   ]
  },
  {
   "cell_type": "code",
   "execution_count": null,
   "id": "352a9719",
   "metadata": {},
   "outputs": [],
   "source": [
    "    # Download the files:\n",
    "Observations.download_products(Ex3Prod,  mrp_only=False, cache=False)\n"
   ]
  },
  {
   "cell_type": "code",
   "execution_count": null,
   "id": "03a38c40",
   "metadata": {},
   "outputs": [],
   "source": [
    "\n",
    "\n",
    "    # Retrieve data from the files and create arrays\n",
    "            # flt file data: (SCI array)\n",
    "data1_flt = fits.getdata('mastDownload/HST/idxr01z3q/idxr01z3q_flt.fits', 'sci', 1)\n",
    "data2_flt = fits.getdata('mastDownload/HST/idxr01z3q/idxr01z3q_flt.fits', 'sci', 2)\n",
    "Ex3_flt = np.concatenate((data1_flt, data2_flt))\n",
    "\n",
    "            # Raw file data: (SCI array)\n",
    "data1_raw = fits.getdata('mastDownload/HST/idxr01z3q/idxr01z3q_raw.fits', 'sci', 1)\n",
    "data2_raw = fits.getdata('mastDownload/HST/idxr01z3q/idxr01z3q_raw.fits', 'sci', 2)\n",
    "Ex3_raw= np.concatenate((data1_raw, data2_raw))\n",
    "\n",
    "            # ERR array from flt file\n",
    "data1_ERR = fits.getdata('mastDownload/HST/idxr01z3q/idxr01z3q_flt.fits','ERR',1)\n",
    "data2_ERR = fits.getdata('mastDownload/HST/idxr01z3q/idxr01z3q_flt.fits','ERR',2)\n",
    "Ex3_ERR = np.concatenate((data1_ERR,data2_ERR))\n",
    "\n",
    "            # DQ array from the flt file\n",
    "data1_DQ = fits.getdata('mastDownload/HST/idxr01z3q/idxr01z3q_flt.fits','DQ',1)\n",
    "data2_DQ = fits.getdata('mastDownload/HST/idxr01z3q/idxr01z3q_flt.fits','DQ',2)\n",
    "Ex3_DQ = np.concatenate((data1_DQ,data2_DQ))\n"
   ]
  },
  {
   "cell_type": "code",
   "execution_count": null,
   "id": "8236a17d",
   "metadata": {},
   "outputs": [],
   "source": [
    "tes1 = fits.getval('mastDownload/HST/idxr01z3q/idxr01z3q_flt.fits', 'detector')\n",
    "\n",
    "test2 = fits.getval('mastDownload/HST/idxr01z3q/idxr01z3q_flt.fits', 'subarray')\n",
    "\n",
    "#tes1\n",
    "\n",
    "test2"
   ]
  },
  {
   "cell_type": "code",
   "execution_count": null,
   "id": "dc6e9684",
   "metadata": {},
   "outputs": [],
   "source": [
    "            #Scaling for the plots:\n",
    "vmin3_flt, vmax3_flt = zscale(Ex3_flt)\n",
    "vmin3_raw, vmax3_raw = zscale(Ex3_raw)\n",
    "vmin3_ERR, vmax3_ERR = zscale(Ex3_ERR)\n",
    "\n",
    "            # Summary statistics:\n",
    "im3_mean = np.mean(Ex3_flt)\n",
    "im3_med = np.median(Ex3_flt)\n",
    "im3_min = np.amin(Ex3_flt)\n",
    "im3_max = np.amax(Ex3_flt)\n",
    "im3_stdev = np.std(Ex3_flt)\n",
    "\n",
    "Ex3_stats = ['1.iii',im3_mean, im3_med, im3_min, im3_max, im3_stdev]"
   ]
  },
  {
   "cell_type": "code",
   "execution_count": null,
   "id": "54325930",
   "metadata": {},
   "outputs": [],
   "source": [
    "\n",
    "    # Plot the arrays:\n",
    "fig3, ax3 = plt.subplots(2,2, figsize=[20,20], constrained_layout=True)\n",
    "fig3.suptitle('Image rootname: idxr01z3q', fontsize=25)\n",
    "\n",
    "ax3[0,0].set_title('flt',fontsize=20)\n",
    "E3a = ax3[0,0].imshow(Ex3_flt, vmin=vmin3_flt, vmax=vmax3_flt, cmap='gray', origin='lower')\n",
    "fig3.colorbar(E3a, ax = ax3[0,0], shrink=0.9)\n",
    "\n",
    "ax3[0,1].set_title('raw',fontsize=20)\n",
    "E3b = ax3[0,1].imshow(Ex3_raw, vmin=vmin3_raw, vmax=vmax3_raw, cmap='gray', origin='lower')\n",
    "fig3.colorbar(E3b, ax = ax3[0,1], shrink=0.9)\n",
    "\n",
    "ax3[1,0].set_title(\"Error array\",fontsize=20)\n",
    "E3c = ax3[1,0].imshow(Ex3_ERR, vmin=vmin3_ERR,vmax=vmax3_ERR, cmap='gray', origin='lower')\n",
    "fig3.colorbar(E3c, ax = ax3[1,0], shrink=0.9)\n",
    "\n",
    "ax3[1,1].set_title(\"Data Quality array\",fontsize=20)\n",
    "E3d = ax3[1,1].imshow(Ex3_DQ, cmap='gray', origin='lower')\n",
    "fig3.colorbar(E3d, ax = ax3[1,1], shrink=0.9)\n",
    "\n",
    "plt.savefig('Exercise 1_iii plots.png')"
   ]
  },
  {
   "cell_type": "code",
   "execution_count": null,
   "id": "72e7d29c",
   "metadata": {},
   "outputs": [],
   "source": [
    "    # Histogram plot:\n",
    "H3, bins3 = np.histogram(Ex3_flt, 256, [0,256]) #, range=(vmin3_flt,vmax3_flt))\n",
    "plt.figure()\n",
    "plt.title('Histogram of idxr01z3q')\n",
    "plt.hist(bins3[:-1], bins3, weights=H3, log=True)\n",
    "\n",
    "plt.savefig('ex1_iii histogram.png')"
   ]
  },
  {
   "cell_type": "markdown",
   "metadata": {},
   "source": [
    "### Exercise 2: 'ie8d07wcq'"
   ]
  },
  {
   "cell_type": "code",
   "execution_count": null,
   "id": "36cb2610",
   "metadata": {},
   "outputs": [],
   "source": [
    "# Exercise 2: \n",
    "    # Query for the data files\n",
    "Ex4_table = Observations.query_criteria(obs_id= 'ie8d01neq')\n",
    "Ex4_Prods = Observations.get_product_list(Ex4_table)\n",
    "Ex4Prod = Observations.filter_products(Ex4_Prods, extension=[\"_flt.fits\", \"_raw.fits\"])\n",
    "Ex4Prod"
   ]
  },
  {
   "cell_type": "code",
   "execution_count": null,
   "id": "b0d30742",
   "metadata": {},
   "outputs": [],
   "source": [
    "    # Download data files:\n",
    "Observations.download_products(Ex4Prod, mrp_only=False, cache=False)\n",
    "\n",
    "#Retrieve data from the files and separate them:\n",
    "\n",
    "            #flt file data: (SCI array)\n",
    "Ex4_flt = fits.getdata('mastDownload/HST/ie8d01neq/ie8d01neq_flt.fits', 'sci', 1)\n",
    "\n",
    "            #Raw file data: (SCI array)\n",
    "Ex4_raw = fits.getdata('mastDownload/HST/ie8d01neq/ie8d01neq_raw.fits', 'sci', 1)\n",
    "\n",
    "            #Get the error array from flt\n",
    "Ex4_ERR = fits.getdata('mastDownload/HST/ie8d01neq/ie8d01neq_flt.fits','ERR',1)\n",
    "\n",
    "            #Get the DQ array from the flt file\n",
    "Ex4_DQ = fits.getdata('mastDownload/HST/ie8d01neq/ie8d01neq_flt.fits','DQ',1)\n"
   ]
  },
  {
   "cell_type": "code",
   "execution_count": null,
   "id": "b18a81aa",
   "metadata": {},
   "outputs": [],
   "source": [
    "            #Scaling for the plots:\n",
    "vmin4_flt, vmax4_flt = zscale(Ex4_flt)\n",
    "vmin4_raw, vmax4_raw = zscale(Ex4_raw)\n",
    "vmin4_ERR, vmax4_ERR = zscale(Ex4_ERR)\n",
    "\n",
    "            #Summary statistics:\n",
    "im4_mean = np.mean(Ex4_flt)\n",
    "im4_med = np.median(Ex4_flt)\n",
    "im4_min = np.amin(Ex4_flt)\n",
    "im4_max = np.amax(Ex4_flt)\n",
    "im4_stdev = np.std(Ex4_flt)\n",
    "\n",
    "Ex4_stats = ['2', im4_mean, im4_med, im4_min, im4_max, im4_stdev]"
   ]
  },
  {
   "cell_type": "code",
   "execution_count": null,
   "id": "72675895",
   "metadata": {},
   "outputs": [],
   "source": [
    "    # Plot the arrays:\n",
    "fig4, ax4 = plt.subplots(2,2, figsize=[20,20], constrained_layout=True)\n",
    "fig4.suptitle('Image rootname: ie8d01neq', fontsize=25)\n",
    "\n",
    "ax4[0,0].set_title('flt',fontsize=20)\n",
    "E4a = ax4[0,0].imshow(Ex4_flt, vmin=vmin4_flt, vmax=vmax4_flt, cmap='gray', origin='lower')\n",
    "fig4.colorbar(E4a, ax = ax4[0,0], shrink=0.9)\n",
    "\n",
    "ax4[0,1].set_title('raw',fontsize=20)\n",
    "E4b = ax4[0,1].imshow(Ex4_raw, vmin=vmin4_raw, vmax=vmax4_raw, cmap='gray', origin='lower')\n",
    "fig4.colorbar(E4b, ax = ax4[0,1], shrink=0.9)\n",
    "\n",
    "ax4[1,0].set_title(\"Error array\",fontsize=20)\n",
    "E4c = ax4[1,0].imshow(Ex4_ERR, vmin=vmin4_ERR,vmax=vmax4_ERR, cmap='gray', origin='lower')\n",
    "fig4.colorbar(E4c, ax = ax4[1,0], shrink=0.9)\n",
    "\n",
    "ax4[1,1].set_title(\"Data Quality array\",fontsize=20)\n",
    "E4d = ax4[1,1].imshow(Ex4_DQ, cmap='gray', origin='lower')\n",
    "fig4.colorbar(E4d, ax = ax4[1,1], shrink=0.9)\n",
    "\n",
    "plt.savefig('Exercise 2 plots.png')"
   ]
  },
  {
   "cell_type": "code",
   "execution_count": null,
   "id": "c6fbbe7b",
   "metadata": {},
   "outputs": [],
   "source": [
    "    # Histogram plot:\n",
    "H4, bins4 = np.histogram(Ex4_flt, 256, [0,256])\n",
    "plt.figure()\n",
    "plt.title('Histogram of ie8d01neq')\n",
    "plt.hist(bins4[:-1], bins4, weights=H4, log=True)\n",
    "plt.savefig('ex2 histogram.png')"
   ]
  },
  {
   "cell_type": "markdown",
   "metadata": {},
   "source": [
    "### Create the Pandas dataframe:"
   ]
  },
  {
   "cell_type": "code",
   "execution_count": null,
   "id": "c1d42256",
   "metadata": {},
   "outputs": [],
   "source": [
    "# List of each stats list\n",
    "sum_stats = [Ex1_stats, Ex2_stats, Ex3_stats, Ex4_stats]\n",
    "\n",
    "# Make the dataframe from these lists\n",
    "col_names = ['Exercise', 'Mean', 'Median', 'Minimum', 'Maximum', 'Standard Deviation']\n",
    "stats = pd.DataFrame(sum_stats, columns=col_names)\n",
    "\n",
    "stats"
   ]
  }
 ],
 "metadata": {
  "kernelspec": {
   "display_name": "Python 3",
   "language": "python",
   "name": "python3"
  },
  "language_info": {
   "codemirror_mode": {
    "name": "ipython",
    "version": 3
   },
   "file_extension": ".py",
   "mimetype": "text/x-python",
   "name": "python",
   "nbconvert_exporter": "python",
   "pygments_lexer": "ipython3",
   "version": "3.6.12"
  }
 },
 "nbformat": 4,
 "nbformat_minor": 5
}
